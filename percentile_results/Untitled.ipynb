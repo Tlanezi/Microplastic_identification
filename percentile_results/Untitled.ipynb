{
 "cells": [
  {
   "cell_type": "markdown",
   "id": "f6695c7e-b621-4ba1-a3e9-8c5ad656874b",
   "metadata": {},
   "source": [
    "Microplastics prediction for natural samples"
   ]
  },
  {
   "cell_type": "code",
   "execution_count": 2,
   "id": "2f2edf6e-fc57-43e4-9416-5a964ea69f5d",
   "metadata": {},
   "outputs": [],
   "source": [
    "import pandas as pd"
   ]
  },
  {
   "cell_type": "code",
   "execution_count": 3,
   "id": "2905ff25-5867-481c-bb50-cd82e2cec791",
   "metadata": {},
   "outputs": [
    {
     "ename": "NameError",
     "evalue": "name 'load_model' is not defined",
     "output_type": "error",
     "traceback": [
      "\u001b[1;31m---------------------------------------------------------------------------\u001b[0m",
      "\u001b[1;31mNameError\u001b[0m                                 Traceback (most recent call last)",
      "Cell \u001b[1;32mIn [3], line 2\u001b[0m\n\u001b[0;32m      1\u001b[0m \u001b[38;5;66;03m#loading saved model\u001b[39;00m\n\u001b[1;32m----> 2\u001b[0m random_forest_classifier \u001b[38;5;241m=\u001b[39m \u001b[43mload_model\u001b[49m(\u001b[38;5;124m'\u001b[39m\u001b[38;5;124mFinal rfc2 Model 22oct2022\u001b[39m\u001b[38;5;124m'\u001b[39m)\n",
      "\u001b[1;31mNameError\u001b[0m: name 'load_model' is not defined"
     ]
    }
   ],
   "source": [
    "#loading saved model\n",
    "random_forest_classifier = load_model('Final rfc2 Model 22oct2022')"
   ]
  },
  {
   "cell_type": "code",
   "execution_count": null,
   "id": "f3085279-2ce3-43bc-b3f4-aebdbc918d43",
   "metadata": {},
   "outputs": [],
   "source": []
  }
 ],
 "metadata": {
  "kernelspec": {
   "display_name": "Python 3 (ipykernel)",
   "language": "python",
   "name": "python3"
  },
  "language_info": {
   "codemirror_mode": {
    "name": "ipython",
    "version": 3
   },
   "file_extension": ".py",
   "mimetype": "text/x-python",
   "name": "python",
   "nbconvert_exporter": "python",
   "pygments_lexer": "ipython3",
   "version": "3.8.13"
  }
 },
 "nbformat": 4,
 "nbformat_minor": 5
}
