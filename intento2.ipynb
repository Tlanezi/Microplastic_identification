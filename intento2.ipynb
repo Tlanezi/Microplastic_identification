{
 "cells": [
  {
   "cell_type": "code",
   "execution_count": 27,
   "id": "43a7ca2e-c93b-4e2f-b28c-1c0ead49346c",
   "metadata": {},
   "outputs": [],
   "source": [
    "import pandas as pd\n",
    "import numpy as np\n",
    "import matplotlib.pyplot as plt"
   ]
  },
  {
   "cell_type": "code",
   "execution_count": 44,
   "id": "e88e699d-1c47-4c3f-86a7-d26f56cd9ff5",
   "metadata": {},
   "outputs": [],
   "source": [
    "df = pd.read_csv('C:/Users/nezim/PycharmProjects/percentile_calculator/percentile_results/data_set_percentiles_2.csv')"
   ]
  },
  {
   "cell_type": "code",
   "execution_count": 45,
   "id": "2f87490f-dd72-4cba-be48-e11a21c694ef",
   "metadata": {},
   "outputs": [
    {
     "data": {
      "text/html": [
       "<div>\n",
       "<style scoped>\n",
       "    .dataframe tbody tr th:only-of-type {\n",
       "        vertical-align: middle;\n",
       "    }\n",
       "\n",
       "    .dataframe tbody tr th {\n",
       "        vertical-align: top;\n",
       "    }\n",
       "\n",
       "    .dataframe thead th {\n",
       "        text-align: right;\n",
       "    }\n",
       "</style>\n",
       "<table border=\"1\" class=\"dataframe\">\n",
       "  <thead>\n",
       "    <tr style=\"text-align: right;\">\n",
       "      <th></th>\n",
       "      <th>MPs</th>\n",
       "      <th>nilrefilter_Redcomponent_percentile50th</th>\n",
       "      <th>nilre_filter_Red_component_percentile_90th</th>\n",
       "      <th>nilre_filter_Green_component_percentile_50th</th>\n",
       "      <th>nilre_filter_Green_ component_percentile_90th</th>\n",
       "      <th>nilre_filter_Blue_component_percentile_50th</th>\n",
       "      <th>nilre_filter_ Blue_ component_percentile_90th</th>\n",
       "      <th>DAPI_filter_Red_component_percentile_50th</th>\n",
       "      <th>DAPI_filter_ Red_ component_percentile_90th</th>\n",
       "      <th>DAPI_filter_Green_component_percentile_50th</th>\n",
       "      <th>DAPI_filter_ Green_ component_percentile_90th</th>\n",
       "      <th>DAPI_filter_Blue_component_percentile_50th</th>\n",
       "      <th>DAPI_filter_ Blue_ component_percentile_90th</th>\n",
       "      <th>FITC_filter_Red_component_percentile_50th</th>\n",
       "      <th>FITC_filter_ Red_ component_percentile_90th</th>\n",
       "      <th>FITC_filter_Green_component_percentile_50th</th>\n",
       "      <th>FITC_filter_ Green_ component_percentile_90th</th>\n",
       "      <th>FITC_filter_Blue_component_percentile_50th</th>\n",
       "      <th>FITC_filter_ Blue_ component_percentile_90th</th>\n",
       "    </tr>\n",
       "  </thead>\n",
       "  <tbody>\n",
       "    <tr>\n",
       "      <th>0</th>\n",
       "      <td>OM</td>\n",
       "      <td>3</td>\n",
       "      <td>10</td>\n",
       "      <td>0</td>\n",
       "      <td>0</td>\n",
       "      <td>0</td>\n",
       "      <td>0</td>\n",
       "      <td>6</td>\n",
       "      <td>14</td>\n",
       "      <td>11</td>\n",
       "      <td>20</td>\n",
       "      <td>17</td>\n",
       "      <td>19</td>\n",
       "      <td>0</td>\n",
       "      <td>0</td>\n",
       "      <td>0</td>\n",
       "      <td>0</td>\n",
       "      <td>0</td>\n",
       "      <td>0</td>\n",
       "    </tr>\n",
       "    <tr>\n",
       "      <th>1</th>\n",
       "      <td>PA</td>\n",
       "      <td>102</td>\n",
       "      <td>178</td>\n",
       "      <td>0</td>\n",
       "      <td>0</td>\n",
       "      <td>0</td>\n",
       "      <td>0</td>\n",
       "      <td>0</td>\n",
       "      <td>0</td>\n",
       "      <td>0</td>\n",
       "      <td>0</td>\n",
       "      <td>0</td>\n",
       "      <td>0</td>\n",
       "      <td>0</td>\n",
       "      <td>0</td>\n",
       "      <td>0</td>\n",
       "      <td>0</td>\n",
       "      <td>0</td>\n",
       "      <td>0</td>\n",
       "    </tr>\n",
       "    <tr>\n",
       "      <th>2</th>\n",
       "      <td>PA6</td>\n",
       "      <td>4</td>\n",
       "      <td>4</td>\n",
       "      <td>0</td>\n",
       "      <td>0</td>\n",
       "      <td>0</td>\n",
       "      <td>0</td>\n",
       "      <td>0</td>\n",
       "      <td>1</td>\n",
       "      <td>39</td>\n",
       "      <td>41</td>\n",
       "      <td>61</td>\n",
       "      <td>65</td>\n",
       "      <td>0</td>\n",
       "      <td>0</td>\n",
       "      <td>0</td>\n",
       "      <td>0</td>\n",
       "      <td>0</td>\n",
       "      <td>0</td>\n",
       "    </tr>\n",
       "    <tr>\n",
       "      <th>3</th>\n",
       "      <td>PE</td>\n",
       "      <td>42</td>\n",
       "      <td>70</td>\n",
       "      <td>0</td>\n",
       "      <td>0</td>\n",
       "      <td>0</td>\n",
       "      <td>0</td>\n",
       "      <td>0</td>\n",
       "      <td>0</td>\n",
       "      <td>0</td>\n",
       "      <td>0</td>\n",
       "      <td>0</td>\n",
       "      <td>0</td>\n",
       "      <td>0</td>\n",
       "      <td>0</td>\n",
       "      <td>187</td>\n",
       "      <td>220</td>\n",
       "      <td>29</td>\n",
       "      <td>34</td>\n",
       "    </tr>\n",
       "    <tr>\n",
       "      <th>4</th>\n",
       "      <td>PE100</td>\n",
       "      <td>64</td>\n",
       "      <td>74</td>\n",
       "      <td>0</td>\n",
       "      <td>0</td>\n",
       "      <td>0</td>\n",
       "      <td>0</td>\n",
       "      <td>0</td>\n",
       "      <td>0</td>\n",
       "      <td>0</td>\n",
       "      <td>0</td>\n",
       "      <td>0</td>\n",
       "      <td>0</td>\n",
       "      <td>0</td>\n",
       "      <td>0</td>\n",
       "      <td>186</td>\n",
       "      <td>195</td>\n",
       "      <td>29</td>\n",
       "      <td>30</td>\n",
       "    </tr>\n",
       "  </tbody>\n",
       "</table>\n",
       "</div>"
      ],
      "text/plain": [
       "     MPs  nilrefilter_Redcomponent_percentile50th  \\\n",
       "0     OM                                        3   \n",
       "1     PA                                      102   \n",
       "2    PA6                                        4   \n",
       "3     PE                                       42   \n",
       "4  PE100                                       64   \n",
       "\n",
       "   nilre_filter_Red_component_percentile_90th  \\\n",
       "0                                          10   \n",
       "1                                         178   \n",
       "2                                           4   \n",
       "3                                          70   \n",
       "4                                          74   \n",
       "\n",
       "   nilre_filter_Green_component_percentile_50th  \\\n",
       "0                                             0   \n",
       "1                                             0   \n",
       "2                                             0   \n",
       "3                                             0   \n",
       "4                                             0   \n",
       "\n",
       "   nilre_filter_Green_ component_percentile_90th  \\\n",
       "0                                              0   \n",
       "1                                              0   \n",
       "2                                              0   \n",
       "3                                              0   \n",
       "4                                              0   \n",
       "\n",
       "   nilre_filter_Blue_component_percentile_50th  \\\n",
       "0                                            0   \n",
       "1                                            0   \n",
       "2                                            0   \n",
       "3                                            0   \n",
       "4                                            0   \n",
       "\n",
       "   nilre_filter_ Blue_ component_percentile_90th  \\\n",
       "0                                              0   \n",
       "1                                              0   \n",
       "2                                              0   \n",
       "3                                              0   \n",
       "4                                              0   \n",
       "\n",
       "   DAPI_filter_Red_component_percentile_50th  \\\n",
       "0                                          6   \n",
       "1                                          0   \n",
       "2                                          0   \n",
       "3                                          0   \n",
       "4                                          0   \n",
       "\n",
       "   DAPI_filter_ Red_ component_percentile_90th  \\\n",
       "0                                           14   \n",
       "1                                            0   \n",
       "2                                            1   \n",
       "3                                            0   \n",
       "4                                            0   \n",
       "\n",
       "   DAPI_filter_Green_component_percentile_50th  \\\n",
       "0                                           11   \n",
       "1                                            0   \n",
       "2                                           39   \n",
       "3                                            0   \n",
       "4                                            0   \n",
       "\n",
       "   DAPI_filter_ Green_ component_percentile_90th  \\\n",
       "0                                             20   \n",
       "1                                              0   \n",
       "2                                             41   \n",
       "3                                              0   \n",
       "4                                              0   \n",
       "\n",
       "   DAPI_filter_Blue_component_percentile_50th  \\\n",
       "0                                          17   \n",
       "1                                           0   \n",
       "2                                          61   \n",
       "3                                           0   \n",
       "4                                           0   \n",
       "\n",
       "   DAPI_filter_ Blue_ component_percentile_90th  \\\n",
       "0                                            19   \n",
       "1                                             0   \n",
       "2                                            65   \n",
       "3                                             0   \n",
       "4                                             0   \n",
       "\n",
       "   FITC_filter_Red_component_percentile_50th  \\\n",
       "0                                          0   \n",
       "1                                          0   \n",
       "2                                          0   \n",
       "3                                          0   \n",
       "4                                          0   \n",
       "\n",
       "   FITC_filter_ Red_ component_percentile_90th  \\\n",
       "0                                            0   \n",
       "1                                            0   \n",
       "2                                            0   \n",
       "3                                            0   \n",
       "4                                            0   \n",
       "\n",
       "   FITC_filter_Green_component_percentile_50th  \\\n",
       "0                                            0   \n",
       "1                                            0   \n",
       "2                                            0   \n",
       "3                                          187   \n",
       "4                                          186   \n",
       "\n",
       "   FITC_filter_ Green_ component_percentile_90th  \\\n",
       "0                                              0   \n",
       "1                                              0   \n",
       "2                                              0   \n",
       "3                                            220   \n",
       "4                                            195   \n",
       "\n",
       "   FITC_filter_Blue_component_percentile_50th  \\\n",
       "0                                           0   \n",
       "1                                           0   \n",
       "2                                           0   \n",
       "3                                          29   \n",
       "4                                          29   \n",
       "\n",
       "   FITC_filter_ Blue_ component_percentile_90th  \n",
       "0                                             0  \n",
       "1                                             0  \n",
       "2                                             0  \n",
       "3                                            34  \n",
       "4                                            30  "
      ]
     },
     "execution_count": 45,
     "metadata": {},
     "output_type": "execute_result"
    }
   ],
   "source": [
    "df.head()"
   ]
  },
  {
   "cell_type": "code",
   "execution_count": null,
   "id": "d80f389b-8b2e-4f40-8b98-058725b97d2b",
   "metadata": {},
   "outputs": [],
   "source": []
  },
  {
   "cell_type": "code",
   "execution_count": 46,
   "id": "ac9ff3e3-52ee-4f27-bb63-1c0e420cb30c",
   "metadata": {},
   "outputs": [],
   "source": [
    "explicativas = df.iloc[:,1:17]\n",
    "objetivo = df.MPs"
   ]
  },
  {
   "cell_type": "code",
   "execution_count": 47,
   "id": "022bce7f-18ca-4099-85e4-7ce3495ad52b",
   "metadata": {},
   "outputs": [],
   "source": [
    "from sklearn.tree import DecisionTreeClassifier"
   ]
  },
  {
   "cell_type": "code",
   "execution_count": 48,
   "id": "05901420-b875-462c-9538-fe8127c0c1c0",
   "metadata": {},
   "outputs": [],
   "source": [
    "model = DecisionTreeClassifier(max_depth=4)"
   ]
  },
  {
   "cell_type": "code",
   "execution_count": 49,
   "id": "4583f152-50b1-4817-ac39-aa8cca8e3d11",
   "metadata": {},
   "outputs": [
    {
     "data": {
      "text/html": [
       "<style>#sk-container-id-3 {color: black;background-color: white;}#sk-container-id-3 pre{padding: 0;}#sk-container-id-3 div.sk-toggleable {background-color: white;}#sk-container-id-3 label.sk-toggleable__label {cursor: pointer;display: block;width: 100%;margin-bottom: 0;padding: 0.3em;box-sizing: border-box;text-align: center;}#sk-container-id-3 label.sk-toggleable__label-arrow:before {content: \"▸\";float: left;margin-right: 0.25em;color: #696969;}#sk-container-id-3 label.sk-toggleable__label-arrow:hover:before {color: black;}#sk-container-id-3 div.sk-estimator:hover label.sk-toggleable__label-arrow:before {color: black;}#sk-container-id-3 div.sk-toggleable__content {max-height: 0;max-width: 0;overflow: hidden;text-align: left;background-color: #f0f8ff;}#sk-container-id-3 div.sk-toggleable__content pre {margin: 0.2em;color: black;border-radius: 0.25em;background-color: #f0f8ff;}#sk-container-id-3 input.sk-toggleable__control:checked~div.sk-toggleable__content {max-height: 200px;max-width: 100%;overflow: auto;}#sk-container-id-3 input.sk-toggleable__control:checked~label.sk-toggleable__label-arrow:before {content: \"▾\";}#sk-container-id-3 div.sk-estimator input.sk-toggleable__control:checked~label.sk-toggleable__label {background-color: #d4ebff;}#sk-container-id-3 div.sk-label input.sk-toggleable__control:checked~label.sk-toggleable__label {background-color: #d4ebff;}#sk-container-id-3 input.sk-hidden--visually {border: 0;clip: rect(1px 1px 1px 1px);clip: rect(1px, 1px, 1px, 1px);height: 1px;margin: -1px;overflow: hidden;padding: 0;position: absolute;width: 1px;}#sk-container-id-3 div.sk-estimator {font-family: monospace;background-color: #f0f8ff;border: 1px dotted black;border-radius: 0.25em;box-sizing: border-box;margin-bottom: 0.5em;}#sk-container-id-3 div.sk-estimator:hover {background-color: #d4ebff;}#sk-container-id-3 div.sk-parallel-item::after {content: \"\";width: 100%;border-bottom: 1px solid gray;flex-grow: 1;}#sk-container-id-3 div.sk-label:hover label.sk-toggleable__label {background-color: #d4ebff;}#sk-container-id-3 div.sk-serial::before {content: \"\";position: absolute;border-left: 1px solid gray;box-sizing: border-box;top: 0;bottom: 0;left: 50%;z-index: 0;}#sk-container-id-3 div.sk-serial {display: flex;flex-direction: column;align-items: center;background-color: white;padding-right: 0.2em;padding-left: 0.2em;position: relative;}#sk-container-id-3 div.sk-item {position: relative;z-index: 1;}#sk-container-id-3 div.sk-parallel {display: flex;align-items: stretch;justify-content: center;background-color: white;position: relative;}#sk-container-id-3 div.sk-item::before, #sk-container-id-3 div.sk-parallel-item::before {content: \"\";position: absolute;border-left: 1px solid gray;box-sizing: border-box;top: 0;bottom: 0;left: 50%;z-index: -1;}#sk-container-id-3 div.sk-parallel-item {display: flex;flex-direction: column;z-index: 1;position: relative;background-color: white;}#sk-container-id-3 div.sk-parallel-item:first-child::after {align-self: flex-end;width: 50%;}#sk-container-id-3 div.sk-parallel-item:last-child::after {align-self: flex-start;width: 50%;}#sk-container-id-3 div.sk-parallel-item:only-child::after {width: 0;}#sk-container-id-3 div.sk-dashed-wrapped {border: 1px dashed gray;margin: 0 0.4em 0.5em 0.4em;box-sizing: border-box;padding-bottom: 0.4em;background-color: white;}#sk-container-id-3 div.sk-label label {font-family: monospace;font-weight: bold;display: inline-block;line-height: 1.2em;}#sk-container-id-3 div.sk-label-container {text-align: center;}#sk-container-id-3 div.sk-container {/* jupyter's `normalize.less` sets `[hidden] { display: none; }` but bootstrap.min.css set `[hidden] { display: none !important; }` so we also need the `!important` here to be able to override the default hidden behavior on the sphinx rendered scikit-learn.org. See: https://github.com/scikit-learn/scikit-learn/issues/21755 */display: inline-block !important;position: relative;}#sk-container-id-3 div.sk-text-repr-fallback {display: none;}</style><div id=\"sk-container-id-3\" class=\"sk-top-container\"><div class=\"sk-text-repr-fallback\"><pre>DecisionTreeClassifier(max_depth=4)</pre><b>In a Jupyter environment, please rerun this cell to show the HTML representation or trust the notebook. <br />On GitHub, the HTML representation is unable to render, please try loading this page with nbviewer.org.</b></div><div class=\"sk-container\" hidden><div class=\"sk-item\"><div class=\"sk-estimator sk-toggleable\"><input class=\"sk-toggleable__control sk-hidden--visually\" id=\"sk-estimator-id-3\" type=\"checkbox\" checked><label for=\"sk-estimator-id-3\" class=\"sk-toggleable__label sk-toggleable__label-arrow\">DecisionTreeClassifier</label><div class=\"sk-toggleable__content\"><pre>DecisionTreeClassifier(max_depth=4)</pre></div></div></div></div></div>"
      ],
      "text/plain": [
       "DecisionTreeClassifier(max_depth=4)"
      ]
     },
     "execution_count": 49,
     "metadata": {},
     "output_type": "execute_result"
    }
   ],
   "source": [
    "model.fit(X=explicativas, y=objetivo)"
   ]
  },
  {
   "cell_type": "code",
   "execution_count": 50,
   "id": "fa4d7fb4-4096-465d-b4b6-861ff75f333a",
   "metadata": {},
   "outputs": [],
   "source": [
    "#visualizar\n",
    "from sklearn.tree import plot_tree"
   ]
  },
  {
   "cell_type": "code",
   "execution_count": 51,
   "id": "4450d6e5-9205-4c58-8ef6-91d548ae0454",
   "metadata": {},
   "outputs": [
    {
     "data": {
      "image/png": "[encoded data removed]",
      "text/plain": [
       "<Figure size 1800x1440 with 1 Axes>"
      ]
     },
     "metadata": {
      "needs_background": "light"
     },
     "output_type": "display_data"
    }
   ],
   "source": [
    "fig =plt.figure(figsize=(25,20))\n",
    "plot_tree(decision_tree= model, feature_names=explicativas.columns, filled=True);"
   ]
  },
  {
   "cell_type": "code",
   "execution_count": 52,
   "id": "ebef1dcd-5abf-4cc9-9b01-300512c99ea1",
   "metadata": {},
   "outputs": [],
   "source": [
    "#calcular prediccion\n",
    "a= explicativas.sample()"
   ]
  },
  {
   "cell_type": "code",
   "execution_count": 53,
   "id": "9054ee0f-1daf-49d5-ac29-120cb43a3d65",
   "metadata": {},
   "outputs": [
    {
     "data": {
      "text/html": [
       "<div>\n",
       "<style scoped>\n",
       "    .dataframe tbody tr th:only-of-type {\n",
       "        vertical-align: middle;\n",
       "    }\n",
       "\n",
       "    .dataframe tbody tr th {\n",
       "        vertical-align: top;\n",
       "    }\n",
       "\n",
       "    .dataframe thead th {\n",
       "        text-align: right;\n",
       "    }\n",
       "</style>\n",
       "<table border=\"1\" class=\"dataframe\">\n",
       "  <thead>\n",
       "    <tr style=\"text-align: right;\">\n",
       "      <th></th>\n",
       "      <th>nilrefilter_Redcomponent_percentile50th</th>\n",
       "      <th>nilre_filter_Red_component_percentile_90th</th>\n",
       "      <th>nilre_filter_Green_component_percentile_50th</th>\n",
       "      <th>nilre_filter_Green_ component_percentile_90th</th>\n",
       "      <th>nilre_filter_Blue_component_percentile_50th</th>\n",
       "      <th>nilre_filter_ Blue_ component_percentile_90th</th>\n",
       "      <th>DAPI_filter_Red_component_percentile_50th</th>\n",
       "      <th>DAPI_filter_ Red_ component_percentile_90th</th>\n",
       "      <th>DAPI_filter_Green_component_percentile_50th</th>\n",
       "      <th>DAPI_filter_ Green_ component_percentile_90th</th>\n",
       "      <th>DAPI_filter_Blue_component_percentile_50th</th>\n",
       "      <th>DAPI_filter_ Blue_ component_percentile_90th</th>\n",
       "      <th>FITC_filter_Red_component_percentile_50th</th>\n",
       "      <th>FITC_filter_ Red_ component_percentile_90th</th>\n",
       "      <th>FITC_filter_Green_component_percentile_50th</th>\n",
       "      <th>FITC_filter_ Green_ component_percentile_90th</th>\n",
       "    </tr>\n",
       "  </thead>\n",
       "  <tbody>\n",
       "    <tr>\n",
       "      <th>10</th>\n",
       "      <td>6</td>\n",
       "      <td>6</td>\n",
       "      <td>0</td>\n",
       "      <td>0</td>\n",
       "      <td>0</td>\n",
       "      <td>0</td>\n",
       "      <td>0</td>\n",
       "      <td>0</td>\n",
       "      <td>0</td>\n",
       "      <td>0</td>\n",
       "      <td>0</td>\n",
       "      <td>0</td>\n",
       "      <td>0</td>\n",
       "      <td>1</td>\n",
       "      <td>162</td>\n",
       "      <td>190</td>\n",
       "    </tr>\n",
       "  </tbody>\n",
       "</table>\n",
       "</div>"
      ],
      "text/plain": [
       "    nilrefilter_Redcomponent_percentile50th  \\\n",
       "10                                        6   \n",
       "\n",
       "    nilre_filter_Red_component_percentile_90th  \\\n",
       "10                                           6   \n",
       "\n",
       "    nilre_filter_Green_component_percentile_50th  \\\n",
       "10                                             0   \n",
       "\n",
       "    nilre_filter_Green_ component_percentile_90th  \\\n",
       "10                                              0   \n",
       "\n",
       "    nilre_filter_Blue_component_percentile_50th  \\\n",
       "10                                            0   \n",
       "\n",
       "    nilre_filter_ Blue_ component_percentile_90th  \\\n",
       "10                                              0   \n",
       "\n",
       "    DAPI_filter_Red_component_percentile_50th  \\\n",
       "10                                          0   \n",
       "\n",
       "    DAPI_filter_ Red_ component_percentile_90th  \\\n",
       "10                                            0   \n",
       "\n",
       "    DAPI_filter_Green_component_percentile_50th  \\\n",
       "10                                            0   \n",
       "\n",
       "    DAPI_filter_ Green_ component_percentile_90th  \\\n",
       "10                                              0   \n",
       "\n",
       "    DAPI_filter_Blue_component_percentile_50th  \\\n",
       "10                                           0   \n",
       "\n",
       "    DAPI_filter_ Blue_ component_percentile_90th  \\\n",
       "10                                             0   \n",
       "\n",
       "    FITC_filter_Red_component_percentile_50th  \\\n",
       "10                                          0   \n",
       "\n",
       "    FITC_filter_ Red_ component_percentile_90th  \\\n",
       "10                                            1   \n",
       "\n",
       "    FITC_filter_Green_component_percentile_50th  \\\n",
       "10                                          162   \n",
       "\n",
       "    FITC_filter_ Green_ component_percentile_90th  \n",
       "10                                            190  "
      ]
     },
     "execution_count": 53,
     "metadata": {},
     "output_type": "execute_result"
    }
   ],
   "source": [
    "a"
   ]
  },
  {
   "cell_type": "code",
   "execution_count": 54,
   "id": "3755e8f3-7e74-4d5e-a8be-f51a445a2bc0",
   "metadata": {},
   "outputs": [],
   "source": [
    "fig.savefig(\"micro.png\")"
   ]
  },
  {
   "cell_type": "code",
   "execution_count": 55,
   "id": "10f9b755-05df-4059-bd31-263072a4adfe",
   "metadata": {},
   "outputs": [
    {
     "data": {
      "text/plain": [
       "array([[0., 0., 0., 0., 0., 0., 0., 0., 1., 0., 0., 0., 0., 0.]])"
      ]
     },
     "execution_count": 55,
     "metadata": {},
     "output_type": "execute_result"
    }
   ],
   "source": [
    "model.predict_proba(a)"
   ]
  },
  {
   "cell_type": "code",
   "execution_count": 56,
   "id": "afe93963-d8e5-48b2-a5a4-e54e3be64cf1",
   "metadata": {},
   "outputs": [
    {
     "data": {
      "text/plain": [
       "array(['OM', 'PA', 'PA6', 'PE', 'PE', 'PE', 'PA6', 'PA6', 'PA6', 'PP',\n",
       "       'PP1', 'PE', 'PVC', 'PSf'], dtype=object)"
      ]
     },
     "execution_count": 56,
     "metadata": {},
     "output_type": "execute_result"
    }
   ],
   "source": [
    "y_pred=model.predict(explicativas)\n",
    "y_pred"
   ]
  },
  {
   "cell_type": "code",
   "execution_count": 57,
   "id": "decaae40-19b4-4d7f-8436-7efd595c563b",
   "metadata": {},
   "outputs": [],
   "source": [
    "#interpretar modelo"
   ]
  },
  {
   "cell_type": "code",
   "execution_count": 58,
   "id": "b227788d-19d5-4f1c-9661-3f67aa7cd288",
   "metadata": {},
   "outputs": [],
   "source": [
    "import seaborn as sns"
   ]
  },
  {
   "cell_type": "code",
   "execution_count": 60,
   "id": "f03d7b1a-37da-4107-8c28-84cd0af40e75",
   "metadata": {},
   "outputs": [
    {
     "data": {
      "text/plain": [
       "<AxesSubplot:xlabel='MPs', ylabel='Count'>"
      ]
     },
     "execution_count": 60,
     "metadata": {},
     "output_type": "execute_result"
    },
    {
     "data": {
      "image/png": "[encoded data removed]",
      "text/plain": [
       "<Figure size 432x288 with 1 Axes>"
      ]
     },
     "metadata": {
      "needs_background": "light"
     },
     "output_type": "display_data"
    }
   ],
   "source": [
    "sns.histplot(x=df.MPs, hue=df.nilre_filter_Red_component_percentile_90th) #compara para ver que car es la mas importnate"
   ]
  },
  {
   "cell_type": "code",
   "execution_count": 19,
   "id": "868a8a35-e678-4407-a605-01a7448bb491",
   "metadata": {},
   "outputs": [],
   "source": [
    "#que tan bueno es el modelo\n",
    "df['pred']= y_pred"
   ]
  },
  {
   "cell_type": "code",
   "execution_count": 20,
   "id": "ed01ddd8-6e12-4b21-9b73-021eb90d3d74",
   "metadata": {},
   "outputs": [
    {
     "data": {
      "text/html": [
       "<div>\n",
       "<style scoped>\n",
       "    .dataframe tbody tr th:only-of-type {\n",
       "        vertical-align: middle;\n",
       "    }\n",
       "\n",
       "    .dataframe tbody tr th {\n",
       "        vertical-align: top;\n",
       "    }\n",
       "\n",
       "    .dataframe thead th {\n",
       "        text-align: right;\n",
       "    }\n",
       "</style>\n",
       "<table border=\"1\" class=\"dataframe\">\n",
       "  <thead>\n",
       "    <tr style=\"text-align: right;\">\n",
       "      <th></th>\n",
       "      <th>MPs</th>\n",
       "      <th>pred</th>\n",
       "    </tr>\n",
       "  </thead>\n",
       "  <tbody>\n",
       "    <tr>\n",
       "      <th>7</th>\n",
       "      <td>petmono</td>\n",
       "      <td>PA6</td>\n",
       "    </tr>\n",
       "    <tr>\n",
       "      <th>12</th>\n",
       "      <td>PVC</td>\n",
       "      <td>PVC</td>\n",
       "    </tr>\n",
       "    <tr>\n",
       "      <th>8</th>\n",
       "      <td>PLA</td>\n",
       "      <td>PLA</td>\n",
       "    </tr>\n",
       "    <tr>\n",
       "      <th>13</th>\n",
       "      <td>PSf</td>\n",
       "      <td>PSf</td>\n",
       "    </tr>\n",
       "    <tr>\n",
       "      <th>9</th>\n",
       "      <td>PP</td>\n",
       "      <td>PP</td>\n",
       "    </tr>\n",
       "    <tr>\n",
       "      <th>4</th>\n",
       "      <td>PE100</td>\n",
       "      <td>PE</td>\n",
       "    </tr>\n",
       "    <tr>\n",
       "      <th>10</th>\n",
       "      <td>PP1</td>\n",
       "      <td>PE</td>\n",
       "    </tr>\n",
       "    <tr>\n",
       "      <th>2</th>\n",
       "      <td>PA6</td>\n",
       "      <td>PA6</td>\n",
       "    </tr>\n",
       "    <tr>\n",
       "      <th>3</th>\n",
       "      <td>PE</td>\n",
       "      <td>PE</td>\n",
       "    </tr>\n",
       "    <tr>\n",
       "      <th>6</th>\n",
       "      <td>pet</td>\n",
       "      <td>PA6</td>\n",
       "    </tr>\n",
       "  </tbody>\n",
       "</table>\n",
       "</div>"
      ],
      "text/plain": [
       "        MPs pred\n",
       "7   petmono  PA6\n",
       "12      PVC  PVC\n",
       "8       PLA  PLA\n",
       "13      PSf  PSf\n",
       "9        PP   PP\n",
       "4     PE100   PE\n",
       "10      PP1   PE\n",
       "2       PA6  PA6\n",
       "3        PE   PE\n",
       "6       pet  PA6"
      ]
     },
     "execution_count": 20,
     "metadata": {},
     "output_type": "execute_result"
    }
   ],
   "source": [
    "df.sample(10)[['MPs','pred']]"
   ]
  },
  {
   "cell_type": "code",
   "execution_count": 21,
   "id": "33cbc26b-dade-4ac3-a31c-bfce6c7683a2",
   "metadata": {},
   "outputs": [
    {
     "data": {
      "text/plain": [
       "0      True\n",
       "1      True\n",
       "2      True\n",
       "3      True\n",
       "4     False\n",
       "5     False\n",
       "6     False\n",
       "7     False\n",
       "8      True\n",
       "9      True\n",
       "10    False\n",
       "11     True\n",
       "12     True\n",
       "13     True\n",
       "dtype: bool"
      ]
     },
     "execution_count": 21,
     "metadata": {},
     "output_type": "execute_result"
    }
   ],
   "source": [
    "df['MPs'] == df['pred']"
   ]
  },
  {
   "cell_type": "code",
   "execution_count": 22,
   "id": "d1904415-942f-4010-96dd-182c3a41e7b3",
   "metadata": {},
   "outputs": [
    {
     "data": {
      "text/plain": [
       "0.6428571428571429"
      ]
     },
     "execution_count": 22,
     "metadata": {},
     "output_type": "execute_result"
    }
   ],
   "source": [
    "(df['MPs'] == df['pred']).mean()"
   ]
  },
  {
   "cell_type": "code",
   "execution_count": null,
   "id": "c2850981-24e2-4d5d-ae21-d9e1993fd4e8",
   "metadata": {},
   "outputs": [],
   "source": []
  }
 ],
 "metadata": {
  "kernelspec": {
   "display_name": "Python 3 (ipykernel)",
   "language": "python",
   "name": "python3"
  },
  "language_info": {
   "codemirror_mode": {
    "name": "ipython",
    "version": 3
   },
   "file_extension": ".py",
   "mimetype": "text/x-python",
   "name": "python",
   "nbconvert_exporter": "python",
   "pygments_lexer": "ipython3",
   "version": "3.8.13"
  }
 },
 "nbformat": 4,
 "nbformat_minor": 5
}
